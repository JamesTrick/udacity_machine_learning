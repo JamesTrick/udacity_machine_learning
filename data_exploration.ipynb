{
 "cells": [
  {
   "cell_type": "markdown",
   "metadata": {},
   "source": [
    "# Exploration of Enron Data\n",
    "\n",
    "The purpose of this notebook is to explore then Enron email and financial data for the purposes of completeting Udacity's Introduction to Machine Learning course."
   ]
  },
  {
   "cell_type": "code",
   "execution_count": 127,
   "metadata": {},
   "outputs": [],
   "source": [
    "# Imports needs to get data\n",
    "import sys\n",
    "sys.path.append(\"./tools/\")\n",
    "import pickle\n",
    "import matplotlib.pyplot as plt\n",
    "import pandas as pd\n",
    "import numpy as np\n",
    "\n",
    "# For Feature selection and Processing\n",
    "from sklearn.feature_selection import SelectKBest\n",
    "from sklearn.preprocessing import MinMaxScaler\n",
    "from sklearn.cross_validation import StratifiedShuffleSplit, train_test_split\n",
    "\n",
    "# For parameter tuning\n",
    "from sklearn.pipeline import Pipeline\n",
    "\n",
    "from feature_format import featureFormat, targetFeatureSplit\n",
    "from tester import dump_classifier_and_data\n",
    "from time import time"
   ]
  },
  {
   "cell_type": "code",
   "execution_count": 94,
   "metadata": {
    "collapsed": true
   },
   "outputs": [],
   "source": [
    "features_list = ['poi'] # Add features here\n",
    "\n",
    "with open(\"final_project_dataset.pkl\", \"r\") as data_file:\n",
    "    data_dict = pickle.load(data_file)"
   ]
  },
  {
   "cell_type": "code",
   "execution_count": 95,
   "metadata": {},
   "outputs": [
    {
     "name": "stdout",
     "output_type": "stream",
     "text": [
      "We have data on 146 people within Enron\n"
     ]
    }
   ],
   "source": [
    "print \"We have data on \" + str(len(data_dict.keys())) + \" people within Enron\""
   ]
  },
  {
   "cell_type": "code",
   "execution_count": 96,
   "metadata": {},
   "outputs": [
    {
     "name": "stdout",
     "output_type": "stream",
     "text": [
      "We have 18 POIs in our dataset, so it's heavily imbalanced.\n"
     ]
    }
   ],
   "source": [
    "print 'We have ' + str(len(df[df['poi'] == True])) + ' POIs in our dataset, so it\\'s heavily imbalanced.'"
   ]
  },
  {
   "cell_type": "markdown",
   "metadata": {},
   "source": [
    "We need this class imbalance in mind when evaluating models, as a classification model that simply predicts 'Non-POI' for all cases would be right in 126 cases."
   ]
  },
  {
   "cell_type": "markdown",
   "metadata": {},
   "source": [
    "# Outlier Detection\n",
    "\n",
    "We start our investigation using the salary and bonus figures, as I believe these two figures will either display outliers, or act as latent variables for outliers. For example mistyped figures, or other data-processing errors will likely be captured within these two figures.\n",
    "\n",
    "We start by simply plotting Salary against Bonus."
   ]
  },
  {
   "cell_type": "code",
   "execution_count": 97,
   "metadata": {},
   "outputs": [],
   "source": [
    "def scatter(x, y):\n",
    "    \"\"\"\n",
    "    Function to create scatterplot given x, y points\n",
    "    \"\"\"\n",
    "    features = [\"poi\", x, y]\n",
    "    data = featureFormat(data_dict, features)\n",
    "\n",
    "    for point in data:\n",
    "        x_points = point[1]\n",
    "        y_points = point[2]\n",
    "        plt.scatter(x_points, y_points)\n",
    "\n",
    "    plt.title(x + ' vs ' + y)\n",
    "    plt.xlabel(x)\n",
    "    plt.ylabel(y)\n",
    "    #plt.figtext(x=0.2, y=0.8, s='From this, we can see that there\\'s a large outlier in the top-right hand corner.')\n",
    "    plt.show()"
   ]
  },
  {
   "cell_type": "code",
   "execution_count": 98,
   "metadata": {},
   "outputs": [
    {
     "data": {
      "image/png": "[encoded data removed]",
      "text/plain": [
       "<matplotlib.figure.Figure at 0x1afd0eb8>"
      ]
     },
     "metadata": {},
     "output_type": "display_data"
    }
   ],
   "source": [
    "scatter('salary', 'bonus')"
   ]
  },
  {
   "cell_type": "code",
   "execution_count": null,
   "metadata": {
    "collapsed": true
   },
   "outputs": [],
   "source": []
  },
  {
   "cell_type": "markdown",
   "metadata": {},
   "source": [
    "That outlier is a bit odd! Let's explore it a bit more below."
   ]
  },
  {
   "cell_type": "code",
   "execution_count": 99,
   "metadata": {
    "collapsed": true
   },
   "outputs": [],
   "source": [
    "# Convert dict to Dataframe\n",
    "df = pd.DataFrame.from_dict(data_dict, orient='index')\n",
    "df = df.replace('NaN', np.nan)"
   ]
  },
  {
   "cell_type": "code",
   "execution_count": 100,
   "metadata": {},
   "outputs": [
    {
     "data": {
      "text/html": [
       "<div>\n",
       "<style scoped>\n",
       "    .dataframe tbody tr th:only-of-type {\n",
       "        vertical-align: middle;\n",
       "    }\n",
       "\n",
       "    .dataframe tbody tr th {\n",
       "        vertical-align: top;\n",
       "    }\n",
       "\n",
       "    .dataframe thead th {\n",
       "        text-align: right;\n",
       "    }\n",
       "</style>\n",
       "<table border=\"1\" class=\"dataframe\">\n",
       "  <thead>\n",
       "    <tr style=\"text-align: right;\">\n",
       "      <th></th>\n",
       "      <th>salary</th>\n",
       "      <th>to_messages</th>\n",
       "      <th>deferral_payments</th>\n",
       "      <th>total_payments</th>\n",
       "      <th>exercised_stock_options</th>\n",
       "      <th>bonus</th>\n",
       "      <th>restricted_stock</th>\n",
       "      <th>shared_receipt_with_poi</th>\n",
       "      <th>restricted_stock_deferred</th>\n",
       "      <th>total_stock_value</th>\n",
       "      <th>expenses</th>\n",
       "      <th>loan_advances</th>\n",
       "      <th>from_messages</th>\n",
       "      <th>other</th>\n",
       "      <th>from_this_person_to_poi</th>\n",
       "      <th>director_fees</th>\n",
       "      <th>deferred_income</th>\n",
       "      <th>long_term_incentive</th>\n",
       "      <th>from_poi_to_this_person</th>\n",
       "    </tr>\n",
       "  </thead>\n",
       "  <tbody>\n",
       "    <tr>\n",
       "      <th>count</th>\n",
       "      <td>9.500000e+01</td>\n",
       "      <td>86.000000</td>\n",
       "      <td>3.900000e+01</td>\n",
       "      <td>1.250000e+02</td>\n",
       "      <td>1.020000e+02</td>\n",
       "      <td>8.200000e+01</td>\n",
       "      <td>1.100000e+02</td>\n",
       "      <td>86.000000</td>\n",
       "      <td>1.800000e+01</td>\n",
       "      <td>1.260000e+02</td>\n",
       "      <td>9.500000e+01</td>\n",
       "      <td>4.000000e+00</td>\n",
       "      <td>86.000000</td>\n",
       "      <td>9.300000e+01</td>\n",
       "      <td>86.000000</td>\n",
       "      <td>1.700000e+01</td>\n",
       "      <td>4.900000e+01</td>\n",
       "      <td>6.600000e+01</td>\n",
       "      <td>86.000000</td>\n",
       "    </tr>\n",
       "    <tr>\n",
       "      <th>mean</th>\n",
       "      <td>5.621943e+05</td>\n",
       "      <td>2073.860465</td>\n",
       "      <td>1.642674e+06</td>\n",
       "      <td>5.081526e+06</td>\n",
       "      <td>5.987054e+06</td>\n",
       "      <td>2.374235e+06</td>\n",
       "      <td>2.321741e+06</td>\n",
       "      <td>1176.465116</td>\n",
       "      <td>1.664106e+05</td>\n",
       "      <td>6.773957e+06</td>\n",
       "      <td>1.087289e+05</td>\n",
       "      <td>4.196250e+07</td>\n",
       "      <td>608.790698</td>\n",
       "      <td>9.190650e+05</td>\n",
       "      <td>41.232558</td>\n",
       "      <td>1.668049e+05</td>\n",
       "      <td>-1.140475e+06</td>\n",
       "      <td>1.470361e+06</td>\n",
       "      <td>64.895349</td>\n",
       "    </tr>\n",
       "    <tr>\n",
       "      <th>std</th>\n",
       "      <td>2.716369e+06</td>\n",
       "      <td>2582.700981</td>\n",
       "      <td>5.161930e+06</td>\n",
       "      <td>2.906172e+07</td>\n",
       "      <td>3.106201e+07</td>\n",
       "      <td>1.071333e+07</td>\n",
       "      <td>1.251828e+07</td>\n",
       "      <td>1178.317641</td>\n",
       "      <td>4.201494e+06</td>\n",
       "      <td>3.895777e+07</td>\n",
       "      <td>5.335348e+05</td>\n",
       "      <td>4.708321e+07</td>\n",
       "      <td>1841.033949</td>\n",
       "      <td>4.589253e+06</td>\n",
       "      <td>100.073111</td>\n",
       "      <td>3.198914e+05</td>\n",
       "      <td>4.025406e+06</td>\n",
       "      <td>5.942759e+06</td>\n",
       "      <td>86.979244</td>\n",
       "    </tr>\n",
       "    <tr>\n",
       "      <th>min</th>\n",
       "      <td>4.770000e+02</td>\n",
       "      <td>57.000000</td>\n",
       "      <td>-1.025000e+05</td>\n",
       "      <td>1.480000e+02</td>\n",
       "      <td>3.285000e+03</td>\n",
       "      <td>7.000000e+04</td>\n",
       "      <td>-2.604490e+06</td>\n",
       "      <td>2.000000</td>\n",
       "      <td>-7.576788e+06</td>\n",
       "      <td>-4.409300e+04</td>\n",
       "      <td>1.480000e+02</td>\n",
       "      <td>4.000000e+05</td>\n",
       "      <td>12.000000</td>\n",
       "      <td>2.000000e+00</td>\n",
       "      <td>0.000000</td>\n",
       "      <td>3.285000e+03</td>\n",
       "      <td>-2.799289e+07</td>\n",
       "      <td>6.922300e+04</td>\n",
       "      <td>0.000000</td>\n",
       "    </tr>\n",
       "    <tr>\n",
       "      <th>25%</th>\n",
       "      <td>2.118160e+05</td>\n",
       "      <td>541.250000</td>\n",
       "      <td>8.157300e+04</td>\n",
       "      <td>3.944750e+05</td>\n",
       "      <td>5.278862e+05</td>\n",
       "      <td>4.312500e+05</td>\n",
       "      <td>2.540180e+05</td>\n",
       "      <td>249.750000</td>\n",
       "      <td>-3.896218e+05</td>\n",
       "      <td>4.945102e+05</td>\n",
       "      <td>2.261400e+04</td>\n",
       "      <td>1.600000e+06</td>\n",
       "      <td>22.750000</td>\n",
       "      <td>1.215000e+03</td>\n",
       "      <td>1.000000</td>\n",
       "      <td>9.878400e+04</td>\n",
       "      <td>-6.948620e+05</td>\n",
       "      <td>2.812500e+05</td>\n",
       "      <td>10.000000</td>\n",
       "    </tr>\n",
       "    <tr>\n",
       "      <th>50%</th>\n",
       "      <td>2.599960e+05</td>\n",
       "      <td>1211.000000</td>\n",
       "      <td>2.274490e+05</td>\n",
       "      <td>1.101393e+06</td>\n",
       "      <td>1.310814e+06</td>\n",
       "      <td>7.693750e+05</td>\n",
       "      <td>4.517400e+05</td>\n",
       "      <td>740.500000</td>\n",
       "      <td>-1.469750e+05</td>\n",
       "      <td>1.102872e+06</td>\n",
       "      <td>4.695000e+04</td>\n",
       "      <td>4.176250e+07</td>\n",
       "      <td>41.000000</td>\n",
       "      <td>5.238200e+04</td>\n",
       "      <td>8.000000</td>\n",
       "      <td>1.085790e+05</td>\n",
       "      <td>-1.597920e+05</td>\n",
       "      <td>4.420350e+05</td>\n",
       "      <td>35.000000</td>\n",
       "    </tr>\n",
       "    <tr>\n",
       "      <th>75%</th>\n",
       "      <td>3.121170e+05</td>\n",
       "      <td>2634.750000</td>\n",
       "      <td>1.002672e+06</td>\n",
       "      <td>2.093263e+06</td>\n",
       "      <td>2.547724e+06</td>\n",
       "      <td>1.200000e+06</td>\n",
       "      <td>1.002370e+06</td>\n",
       "      <td>1888.250000</td>\n",
       "      <td>-7.500975e+04</td>\n",
       "      <td>2.949847e+06</td>\n",
       "      <td>7.995250e+04</td>\n",
       "      <td>8.212500e+07</td>\n",
       "      <td>145.500000</td>\n",
       "      <td>3.620960e+05</td>\n",
       "      <td>24.750000</td>\n",
       "      <td>1.137840e+05</td>\n",
       "      <td>-3.834600e+04</td>\n",
       "      <td>9.386720e+05</td>\n",
       "      <td>72.250000</td>\n",
       "    </tr>\n",
       "    <tr>\n",
       "      <th>max</th>\n",
       "      <td>2.670423e+07</td>\n",
       "      <td>15149.000000</td>\n",
       "      <td>3.208340e+07</td>\n",
       "      <td>3.098866e+08</td>\n",
       "      <td>3.117640e+08</td>\n",
       "      <td>9.734362e+07</td>\n",
       "      <td>1.303223e+08</td>\n",
       "      <td>5521.000000</td>\n",
       "      <td>1.545629e+07</td>\n",
       "      <td>4.345095e+08</td>\n",
       "      <td>5.235198e+06</td>\n",
       "      <td>8.392500e+07</td>\n",
       "      <td>14368.000000</td>\n",
       "      <td>4.266759e+07</td>\n",
       "      <td>609.000000</td>\n",
       "      <td>1.398517e+06</td>\n",
       "      <td>-8.330000e+02</td>\n",
       "      <td>4.852193e+07</td>\n",
       "      <td>528.000000</td>\n",
       "    </tr>\n",
       "  </tbody>\n",
       "</table>\n",
       "</div>"
      ],
      "text/plain": [
       "             salary   to_messages  deferral_payments  total_payments  \\\n",
       "count  9.500000e+01     86.000000       3.900000e+01    1.250000e+02   \n",
       "mean   5.621943e+05   2073.860465       1.642674e+06    5.081526e+06   \n",
       "std    2.716369e+06   2582.700981       5.161930e+06    2.906172e+07   \n",
       "min    4.770000e+02     57.000000      -1.025000e+05    1.480000e+02   \n",
       "25%    2.118160e+05    541.250000       8.157300e+04    3.944750e+05   \n",
       "50%    2.599960e+05   1211.000000       2.274490e+05    1.101393e+06   \n",
       "75%    3.121170e+05   2634.750000       1.002672e+06    2.093263e+06   \n",
       "max    2.670423e+07  15149.000000       3.208340e+07    3.098866e+08   \n",
       "\n",
       "       exercised_stock_options         bonus  restricted_stock  \\\n",
       "count             1.020000e+02  8.200000e+01      1.100000e+02   \n",
       "mean              5.987054e+06  2.374235e+06      2.321741e+06   \n",
       "std               3.106201e+07  1.071333e+07      1.251828e+07   \n",
       "min               3.285000e+03  7.000000e+04     -2.604490e+06   \n",
       "25%               5.278862e+05  4.312500e+05      2.540180e+05   \n",
       "50%               1.310814e+06  7.693750e+05      4.517400e+05   \n",
       "75%               2.547724e+06  1.200000e+06      1.002370e+06   \n",
       "max               3.117640e+08  9.734362e+07      1.303223e+08   \n",
       "\n",
       "       shared_receipt_with_poi  restricted_stock_deferred  total_stock_value  \\\n",
       "count                86.000000               1.800000e+01       1.260000e+02   \n",
       "mean               1176.465116               1.664106e+05       6.773957e+06   \n",
       "std                1178.317641               4.201494e+06       3.895777e+07   \n",
       "min                   2.000000              -7.576788e+06      -4.409300e+04   \n",
       "25%                 249.750000              -3.896218e+05       4.945102e+05   \n",
       "50%                 740.500000              -1.469750e+05       1.102872e+06   \n",
       "75%                1888.250000              -7.500975e+04       2.949847e+06   \n",
       "max                5521.000000               1.545629e+07       4.345095e+08   \n",
       "\n",
       "           expenses  loan_advances  from_messages         other  \\\n",
       "count  9.500000e+01   4.000000e+00      86.000000  9.300000e+01   \n",
       "mean   1.087289e+05   4.196250e+07     608.790698  9.190650e+05   \n",
       "std    5.335348e+05   4.708321e+07    1841.033949  4.589253e+06   \n",
       "min    1.480000e+02   4.000000e+05      12.000000  2.000000e+00   \n",
       "25%    2.261400e+04   1.600000e+06      22.750000  1.215000e+03   \n",
       "50%    4.695000e+04   4.176250e+07      41.000000  5.238200e+04   \n",
       "75%    7.995250e+04   8.212500e+07     145.500000  3.620960e+05   \n",
       "max    5.235198e+06   8.392500e+07   14368.000000  4.266759e+07   \n",
       "\n",
       "       from_this_person_to_poi  director_fees  deferred_income  \\\n",
       "count                86.000000   1.700000e+01     4.900000e+01   \n",
       "mean                 41.232558   1.668049e+05    -1.140475e+06   \n",
       "std                 100.073111   3.198914e+05     4.025406e+06   \n",
       "min                   0.000000   3.285000e+03    -2.799289e+07   \n",
       "25%                   1.000000   9.878400e+04    -6.948620e+05   \n",
       "50%                   8.000000   1.085790e+05    -1.597920e+05   \n",
       "75%                  24.750000   1.137840e+05    -3.834600e+04   \n",
       "max                 609.000000   1.398517e+06    -8.330000e+02   \n",
       "\n",
       "       long_term_incentive  from_poi_to_this_person  \n",
       "count         6.600000e+01                86.000000  \n",
       "mean          1.470361e+06                64.895349  \n",
       "std           5.942759e+06                86.979244  \n",
       "min           6.922300e+04                 0.000000  \n",
       "25%           2.812500e+05                10.000000  \n",
       "50%           4.420350e+05                35.000000  \n",
       "75%           9.386720e+05                72.250000  \n",
       "max           4.852193e+07               528.000000  "
      ]
     },
     "execution_count": 100,
     "metadata": {},
     "output_type": "execute_result"
    }
   ],
   "source": [
    "df.describe()"
   ]
  },
  {
   "cell_type": "markdown",
   "metadata": {},
   "source": [
    "By viewing this, we can see that the Max values are typically a lot higher than the mean, let's explore the Max values a bit more..."
   ]
  },
  {
   "cell_type": "code",
   "execution_count": 101,
   "metadata": {},
   "outputs": [
    {
     "data": {
      "text/html": [
       "<div>\n",
       "<style scoped>\n",
       "    .dataframe tbody tr th:only-of-type {\n",
       "        vertical-align: middle;\n",
       "    }\n",
       "\n",
       "    .dataframe tbody tr th {\n",
       "        vertical-align: top;\n",
       "    }\n",
       "\n",
       "    .dataframe thead th {\n",
       "        text-align: right;\n",
       "    }\n",
       "</style>\n",
       "<table border=\"1\" class=\"dataframe\">\n",
       "  <thead>\n",
       "    <tr style=\"text-align: right;\">\n",
       "      <th></th>\n",
       "      <th>salary</th>\n",
       "      <th>to_messages</th>\n",
       "      <th>deferral_payments</th>\n",
       "      <th>total_payments</th>\n",
       "      <th>exercised_stock_options</th>\n",
       "      <th>bonus</th>\n",
       "      <th>restricted_stock</th>\n",
       "      <th>shared_receipt_with_poi</th>\n",
       "      <th>restricted_stock_deferred</th>\n",
       "      <th>total_stock_value</th>\n",
       "      <th>...</th>\n",
       "      <th>loan_advances</th>\n",
       "      <th>from_messages</th>\n",
       "      <th>other</th>\n",
       "      <th>from_this_person_to_poi</th>\n",
       "      <th>poi</th>\n",
       "      <th>director_fees</th>\n",
       "      <th>deferred_income</th>\n",
       "      <th>long_term_incentive</th>\n",
       "      <th>email_address</th>\n",
       "      <th>from_poi_to_this_person</th>\n",
       "    </tr>\n",
       "  </thead>\n",
       "  <tbody>\n",
       "    <tr>\n",
       "      <th>TOTAL</th>\n",
       "      <td>26704229.0</td>\n",
       "      <td>NaN</td>\n",
       "      <td>32083396.0</td>\n",
       "      <td>309886585.0</td>\n",
       "      <td>311764000.0</td>\n",
       "      <td>97343619.0</td>\n",
       "      <td>130322299.0</td>\n",
       "      <td>NaN</td>\n",
       "      <td>-7576788.0</td>\n",
       "      <td>434509511.0</td>\n",
       "      <td>...</td>\n",
       "      <td>83925000.0</td>\n",
       "      <td>NaN</td>\n",
       "      <td>42667589.0</td>\n",
       "      <td>NaN</td>\n",
       "      <td>False</td>\n",
       "      <td>1398517.0</td>\n",
       "      <td>-27992891.0</td>\n",
       "      <td>48521928.0</td>\n",
       "      <td>NaN</td>\n",
       "      <td>NaN</td>\n",
       "    </tr>\n",
       "    <tr>\n",
       "      <th>SKILLING JEFFREY K</th>\n",
       "      <td>1111258.0</td>\n",
       "      <td>3627.0</td>\n",
       "      <td>NaN</td>\n",
       "      <td>8682716.0</td>\n",
       "      <td>19250000.0</td>\n",
       "      <td>5600000.0</td>\n",
       "      <td>6843672.0</td>\n",
       "      <td>2042.0</td>\n",
       "      <td>NaN</td>\n",
       "      <td>26093672.0</td>\n",
       "      <td>...</td>\n",
       "      <td>NaN</td>\n",
       "      <td>108.0</td>\n",
       "      <td>22122.0</td>\n",
       "      <td>30.0</td>\n",
       "      <td>True</td>\n",
       "      <td>NaN</td>\n",
       "      <td>NaN</td>\n",
       "      <td>1920000.0</td>\n",
       "      <td>jeff.skilling@enron.com</td>\n",
       "      <td>88.0</td>\n",
       "    </tr>\n",
       "    <tr>\n",
       "      <th>LAY KENNETH L</th>\n",
       "      <td>1072321.0</td>\n",
       "      <td>4273.0</td>\n",
       "      <td>202911.0</td>\n",
       "      <td>103559793.0</td>\n",
       "      <td>34348384.0</td>\n",
       "      <td>7000000.0</td>\n",
       "      <td>14761694.0</td>\n",
       "      <td>2411.0</td>\n",
       "      <td>NaN</td>\n",
       "      <td>49110078.0</td>\n",
       "      <td>...</td>\n",
       "      <td>81525000.0</td>\n",
       "      <td>36.0</td>\n",
       "      <td>10359729.0</td>\n",
       "      <td>16.0</td>\n",
       "      <td>True</td>\n",
       "      <td>NaN</td>\n",
       "      <td>-300000.0</td>\n",
       "      <td>3600000.0</td>\n",
       "      <td>kenneth.lay@enron.com</td>\n",
       "      <td>123.0</td>\n",
       "    </tr>\n",
       "    <tr>\n",
       "      <th>FREVERT MARK A</th>\n",
       "      <td>1060932.0</td>\n",
       "      <td>3275.0</td>\n",
       "      <td>6426990.0</td>\n",
       "      <td>17252530.0</td>\n",
       "      <td>10433518.0</td>\n",
       "      <td>2000000.0</td>\n",
       "      <td>4188667.0</td>\n",
       "      <td>2979.0</td>\n",
       "      <td>NaN</td>\n",
       "      <td>14622185.0</td>\n",
       "      <td>...</td>\n",
       "      <td>2000000.0</td>\n",
       "      <td>21.0</td>\n",
       "      <td>7427621.0</td>\n",
       "      <td>6.0</td>\n",
       "      <td>False</td>\n",
       "      <td>NaN</td>\n",
       "      <td>-3367011.0</td>\n",
       "      <td>1617011.0</td>\n",
       "      <td>mark.frevert@enron.com</td>\n",
       "      <td>242.0</td>\n",
       "    </tr>\n",
       "    <tr>\n",
       "      <th>PICKERING MARK R</th>\n",
       "      <td>655037.0</td>\n",
       "      <td>898.0</td>\n",
       "      <td>NaN</td>\n",
       "      <td>1386690.0</td>\n",
       "      <td>28798.0</td>\n",
       "      <td>300000.0</td>\n",
       "      <td>NaN</td>\n",
       "      <td>728.0</td>\n",
       "      <td>NaN</td>\n",
       "      <td>28798.0</td>\n",
       "      <td>...</td>\n",
       "      <td>400000.0</td>\n",
       "      <td>67.0</td>\n",
       "      <td>NaN</td>\n",
       "      <td>0.0</td>\n",
       "      <td>False</td>\n",
       "      <td>NaN</td>\n",
       "      <td>NaN</td>\n",
       "      <td>NaN</td>\n",
       "      <td>mark.pickering@enron.com</td>\n",
       "      <td>7.0</td>\n",
       "    </tr>\n",
       "  </tbody>\n",
       "</table>\n",
       "<p>5 rows × 21 columns</p>\n",
       "</div>"
      ],
      "text/plain": [
       "                        salary  to_messages  deferral_payments  \\\n",
       "TOTAL               26704229.0          NaN         32083396.0   \n",
       "SKILLING JEFFREY K   1111258.0       3627.0                NaN   \n",
       "LAY KENNETH L        1072321.0       4273.0           202911.0   \n",
       "FREVERT MARK A       1060932.0       3275.0          6426990.0   \n",
       "PICKERING MARK R      655037.0        898.0                NaN   \n",
       "\n",
       "                    total_payments  exercised_stock_options       bonus  \\\n",
       "TOTAL                  309886585.0              311764000.0  97343619.0   \n",
       "SKILLING JEFFREY K       8682716.0               19250000.0   5600000.0   \n",
       "LAY KENNETH L          103559793.0               34348384.0   7000000.0   \n",
       "FREVERT MARK A          17252530.0               10433518.0   2000000.0   \n",
       "PICKERING MARK R         1386690.0                  28798.0    300000.0   \n",
       "\n",
       "                    restricted_stock  shared_receipt_with_poi  \\\n",
       "TOTAL                    130322299.0                      NaN   \n",
       "SKILLING JEFFREY K         6843672.0                   2042.0   \n",
       "LAY KENNETH L             14761694.0                   2411.0   \n",
       "FREVERT MARK A             4188667.0                   2979.0   \n",
       "PICKERING MARK R                 NaN                    728.0   \n",
       "\n",
       "                    restricted_stock_deferred  total_stock_value  \\\n",
       "TOTAL                              -7576788.0        434509511.0   \n",
       "SKILLING JEFFREY K                        NaN         26093672.0   \n",
       "LAY KENNETH L                             NaN         49110078.0   \n",
       "FREVERT MARK A                            NaN         14622185.0   \n",
       "PICKERING MARK R                          NaN            28798.0   \n",
       "\n",
       "                             ...            loan_advances  from_messages  \\\n",
       "TOTAL                        ...               83925000.0            NaN   \n",
       "SKILLING JEFFREY K           ...                      NaN          108.0   \n",
       "LAY KENNETH L                ...               81525000.0           36.0   \n",
       "FREVERT MARK A               ...                2000000.0           21.0   \n",
       "PICKERING MARK R             ...                 400000.0           67.0   \n",
       "\n",
       "                         other  from_this_person_to_poi    poi  director_fees  \\\n",
       "TOTAL               42667589.0                      NaN  False      1398517.0   \n",
       "SKILLING JEFFREY K     22122.0                     30.0   True            NaN   \n",
       "LAY KENNETH L       10359729.0                     16.0   True            NaN   \n",
       "FREVERT MARK A       7427621.0                      6.0  False            NaN   \n",
       "PICKERING MARK R           NaN                      0.0  False            NaN   \n",
       "\n",
       "                    deferred_income  long_term_incentive  \\\n",
       "TOTAL                   -27992891.0           48521928.0   \n",
       "SKILLING JEFFREY K              NaN            1920000.0   \n",
       "LAY KENNETH L             -300000.0            3600000.0   \n",
       "FREVERT MARK A           -3367011.0            1617011.0   \n",
       "PICKERING MARK R                NaN                  NaN   \n",
       "\n",
       "                               email_address from_poi_to_this_person  \n",
       "TOTAL                                    NaN                     NaN  \n",
       "SKILLING JEFFREY K   jeff.skilling@enron.com                    88.0  \n",
       "LAY KENNETH L          kenneth.lay@enron.com                   123.0  \n",
       "FREVERT MARK A        mark.frevert@enron.com                   242.0  \n",
       "PICKERING MARK R    mark.pickering@enron.com                     7.0  \n",
       "\n",
       "[5 rows x 21 columns]"
      ]
     },
     "execution_count": 101,
     "metadata": {},
     "output_type": "execute_result"
    }
   ],
   "source": [
    "df.sort_values(by=['salary'], ascending=False)[:5] # print highest five salary amounts"
   ]
  },
  {
   "cell_type": "markdown",
   "metadata": {},
   "source": [
    "We can now see that there is a Total Figure that is a lot higher than the other figures. The second highest figure, Is Jeffery Skilling who was the CEO of Enron at the time of the collapse - so it makes sense that he has a high salary (and other financial figures)\n",
    "\n",
    "Given this findings, it's fair to remove the Total Figure, but keep Jeffery Skilling and below, as these figures make logical sense.\n",
    "\n",
    "We also notice by taking a look at the POIs in the dataset that there is a business called THE TRAVEL AGENCY IN THE PARK in the dataset. As the purpose of this investigation is to indentify POIs, we'll remove this data point."
   ]
  },
  {
   "cell_type": "code",
   "execution_count": 102,
   "metadata": {},
   "outputs": [
    {
     "data": {
      "text/plain": [
       "{'bonus': 'NaN',\n",
       " 'deferral_payments': 'NaN',\n",
       " 'deferred_income': 'NaN',\n",
       " 'director_fees': 'NaN',\n",
       " 'email_address': 'NaN',\n",
       " 'exercised_stock_options': 'NaN',\n",
       " 'expenses': 'NaN',\n",
       " 'from_messages': 'NaN',\n",
       " 'from_poi_to_this_person': 'NaN',\n",
       " 'from_this_person_to_poi': 'NaN',\n",
       " 'loan_advances': 'NaN',\n",
       " 'long_term_incentive': 'NaN',\n",
       " 'other': 362096,\n",
       " 'poi': False,\n",
       " 'restricted_stock': 'NaN',\n",
       " 'restricted_stock_deferred': 'NaN',\n",
       " 'salary': 'NaN',\n",
       " 'shared_receipt_with_poi': 'NaN',\n",
       " 'to_messages': 'NaN',\n",
       " 'total_payments': 362096,\n",
       " 'total_stock_value': 'NaN'}"
      ]
     },
     "execution_count": 102,
     "metadata": {},
     "output_type": "execute_result"
    }
   ],
   "source": [
    "df.drop(['TOTAL'], inplace=True)\n",
    "df.drop(['THE TRAVEL AGENCY IN THE PARK'], inplace=True)\n",
    "\n",
    "# Drop figures from data_dict as well\n",
    "data_dict.pop('TOTAL', 0)\n",
    "data_dict.pop('THE TRAVEL AGENCY IN THE PARK', 0)"
   ]
  },
  {
   "cell_type": "code",
   "execution_count": 103,
   "metadata": {},
   "outputs": [
    {
     "data": {
      "image/png": "[encoded data removed]",
      "text/plain": [
       "<matplotlib.figure.Figure at 0x1ba6e208>"
      ]
     },
     "metadata": {},
     "output_type": "display_data"
    }
   ],
   "source": [
    "# Re-plot same graph without outlier\n",
    "scatter('salary', 'bonus')"
   ]
  },
  {
   "cell_type": "markdown",
   "metadata": {},
   "source": [
    "## Missing Data Exploration"
   ]
  },
  {
   "cell_type": "code",
   "execution_count": 104,
   "metadata": {},
   "outputs": [
    {
     "name": "stdout",
     "output_type": "stream",
     "text": [
      "Counts of Null Values\n",
      "---------------------\n"
     ]
    },
    {
     "data": {
      "text/plain": [
       "salary                        50\n",
       "to_messages                   58\n",
       "deferral_payments            106\n",
       "total_payments                21\n",
       "exercised_stock_options       43\n",
       "bonus                         63\n",
       "restricted_stock              35\n",
       "shared_receipt_with_poi       58\n",
       "restricted_stock_deferred    127\n",
       "total_stock_value             19\n",
       "expenses                      50\n",
       "loan_advances                141\n",
       "from_messages                 58\n",
       "other                         53\n",
       "from_this_person_to_poi       58\n",
       "poi                            0\n",
       "director_fees                128\n",
       "deferred_income               96\n",
       "long_term_incentive           79\n",
       "email_address                 33\n",
       "from_poi_to_this_person       58\n",
       "dtype: int64"
      ]
     },
     "execution_count": 104,
     "metadata": {},
     "output_type": "execute_result"
    }
   ],
   "source": [
    "print 'Counts of Null Values'\n",
    "print '---------------------'\n",
    "df.isnull().sum()"
   ]
  },
  {
   "cell_type": "code",
   "execution_count": 105,
   "metadata": {
    "collapsed": true
   },
   "outputs": [],
   "source": [
    "def fill_nan_values():\n",
    "    \"\"\"\n",
    "    Function to replace NaN values.\n",
    "    Salary = Median Value of salary\n",
    "    Other NaN values = 0 \n",
    "    \"\"\"\n",
    "    replace_value = df['salary'].median()\n",
    "\n",
    "    person_key = data_dict.keys()\n",
    "    feature_key = data_dict[people_keys[0]]\n",
    "    \n",
    "    for feature in feauture:\n",
    "        nan_features[feature] = 0\n",
    "        \n",
    "    for person in people_key:\n",
    "        for feature in feature_key:\n",
    "            if feature != 'email_address' and feature != 'salary' and \\\n",
    "                data_dict[person][feature] == 'NaN':\n",
    "                data_dict[person][feature] = 0\n",
    "\n",
    "            elif feature == 'salary' and feature != 'email_address' and \\\n",
    "            data_dict[person][feature] == 'NaN':\n",
    "                data_dict[person][feature] = replace_value"
   ]
  },
  {
   "cell_type": "markdown",
   "metadata": {},
   "source": [
    "# Feature Creation and Pre-processing\n",
    "## Feature Creation\n",
    "Taking a look at the data, and reviewing course material, there is really only one feature that I want to create. The following feature is the ratio of:\n",
    "\n",
    "$$ total_to / from_this_person_to_poi"
   ]
  },
  {
   "cell_type": "code",
   "execution_count": 106,
   "metadata": {},
   "outputs": [],
   "source": [
    "for key in data_dict:\n",
    "    # Create from_ratio. Set from_ratio to zero if NaN appears\n",
    "    if (data_dict[key]['from_this_person_to_poi'] == 'NaN') or (data_dict[key]['from_messages'] == 'NaN'):\n",
    "        data_dict[key]['from_ratio'] = 0.0\n",
    "    else:\n",
    "        data_dict[key]['from_ratio'] = (1.0*data_dict[key]['from_this_person_to_poi']/data_dict[key]['from_messages'])\n",
    "    # Create to_ratio. set to_ratio to zero if NaN appears\n",
    "    if (data_dict[key]['from_poi_to_this_person']=='NaN') or (data_dict[key]['to_messages']=='NaN'):\n",
    "          data_dict[key]['to_ratio'] = 0.0\n",
    "    else:  \n",
    "        data_dict[key]['to_ratio'] = (1.0*data_dict[key]['from_poi_to_this_person']/data_dict[key]['to_messages']) "
   ]
  },
  {
   "cell_type": "code",
   "execution_count": 107,
   "metadata": {},
   "outputs": [],
   "source": [
    "features_list = [\"poi\", \"salary\", \"bonus\", 'deferral_payments', 'total_payments', 'loan_advances', \n",
    "                 'restricted_stock_deferred', 'deferred_income', 'total_stock_value', 'expenses',\n",
    "                 'exercised_stock_options', 'long_term_incentive', 'shared_receipt_with_poi', 'restricted_stock', \n",
    "                 'director_fees', 'from_ratio', 'to_ratio'] # add new features to dataset\n",
    "data = featureFormat(data_dict, features_list)"
   ]
  },
  {
   "cell_type": "code",
   "execution_count": 143,
   "metadata": {
    "collapsed": true
   },
   "outputs": [],
   "source": [
    "### Split Training/Test datasets\n",
    "\n",
    "labels, features = targetFeatureSplit(data)\n",
    "\n",
    "### split data into training and testing datasets\n",
    "features_train, features_test, labels_train, labels_test = train_test_split(features,\n",
    "                                                                            labels,\n",
    "                                                                            test_size=0.1,\n",
    "                                                                            random_state=42)"
   ]
  },
  {
   "cell_type": "code",
   "execution_count": 144,
   "metadata": {},
   "outputs": [],
   "source": [
    "scaler = MinMaxScaler()\n",
    "features_train = scaler.fit_transform(features_train)\n",
    "featues_test = scaler.fit_transform(features_test)"
   ]
  },
  {
   "cell_type": "markdown",
   "metadata": {
    "collapsed": true
   },
   "source": [
    "## Feature Selection\n",
    "\n",
    "For the feature selection, I'm going to use sklearn's select k-best feautures."
   ]
  },
  {
   "cell_type": "code",
   "execution_count": 145,
   "metadata": {
    "collapsed": true
   },
   "outputs": [],
   "source": [
    "skbest = SelectKBest(k=10)\n",
    "sk_transform = skbest.fit_transform(features_train, labels_train)\n",
    "indices = skbest.get_support(True)"
   ]
  },
  {
   "cell_type": "code",
   "execution_count": 146,
   "metadata": {},
   "outputs": [
    {
     "name": "stdout",
     "output_type": "stream",
     "text": [
      "features: salary score: 5.681545\n",
      "features: bonus score: 3.707765\n",
      "features: deferred_income score: 8.184312\n",
      "features: total_stock_value score: 10.259559\n",
      "features: expenses score: 4.694982\n",
      "features: exercised_stock_options score: 11.284944\n",
      "features: long_term_incentive score: 3.513005\n",
      "features: director_fees score: 1.831547\n",
      "features: from_ratio score: 12.569123\n",
      "features: to_ratio score: 3.063668\n"
     ]
    }
   ],
   "source": [
    "best_list = ['poi']\n",
    "for index in indices:\n",
    "    print 'features: %s score: %f' % (features_list[index + 1], skbest.scores_[index])\n",
    "    best_list.append(features_list[index + 1])"
   ]
  },
  {
   "cell_type": "markdown",
   "metadata": {},
   "source": [
    "# Model Building"
   ]
  },
  {
   "cell_type": "markdown",
   "metadata": {},
   "source": [
    "The purpose of this investigation is to build a model to identify Persons of Interest. In this particular case, we have labelled data as to whether the person is a Person of Interest or not. Since we have labelled data we're trying to solve a supervised learning problem using classification techniques.\n",
    "\n",
    "We know from the previous section of this report, that we have a list of the 10 best features to use in models. These are:"
   ]
  },
  {
   "cell_type": "code",
   "execution_count": 147,
   "metadata": {},
   "outputs": [
    {
     "data": {
      "text/plain": [
       "['poi',\n",
       " 'salary',\n",
       " 'bonus',\n",
       " 'deferred_income',\n",
       " 'total_stock_value',\n",
       " 'expenses',\n",
       " 'exercised_stock_options',\n",
       " 'long_term_incentive',\n",
       " 'director_fees',\n",
       " 'from_ratio',\n",
       " 'to_ratio']"
      ]
     },
     "execution_count": 147,
     "metadata": {},
     "output_type": "execute_result"
    }
   ],
   "source": [
    "best_list"
   ]
  },
  {
   "cell_type": "markdown",
   "metadata": {},
   "source": [
    "The models we're going to be using are the following:\n",
    "\n",
    "* Naive Bayes (as a baseline)\n",
    "* Random Forest Classitfication\n",
    "* K Nearest Neighbors Classification\n",
    "\n",
    "All of the above models will include parameter tuning where possible."
   ]
  },
  {
   "cell_type": "code",
   "execution_count": 148,
   "metadata": {
    "collapsed": true
   },
   "outputs": [],
   "source": [
    "# Import models from sklearn\n",
    "from sklearn.tree import DecisionTreeClassifier\n",
    "from sklearn.neighbors import KNeighborsClassifier\n",
    "from sklearn.ensemble import AdaBoostClassifier\n",
    "# Metric for evaluation.\n",
    "from sklearn.metrics import accuracy_score\n",
    "# Import Gridsearch for hyper-paramater tuning\n",
    "from sklearn.model_selection import GridSearchCV"
   ]
  },
  {
   "cell_type": "markdown",
   "metadata": {},
   "source": [
    "# Baseline Models (No parameter tuning)\n",
    "### Support Vector Classification"
   ]
  },
  {
   "cell_type": "code",
   "execution_count": 149,
   "metadata": {},
   "outputs": [
    {
     "data": {
      "text/plain": [
       "0.73333333333333328"
      ]
     },
     "execution_count": 149,
     "metadata": {},
     "output_type": "execute_result"
    }
   ],
   "source": [
    "# Support Vector Classification\n",
    "clf = AdaBoostClassifier()\n",
    "clf.fit(features_train, labels_train)\n",
    "clf.score(features_test, labels_test)"
   ]
  },
  {
   "cell_type": "markdown",
   "metadata": {},
   "source": [
    "### K-Nearest Neighbors Classification"
   ]
  },
  {
   "cell_type": "code",
   "execution_count": 150,
   "metadata": {},
   "outputs": [
    {
     "data": {
      "text/plain": [
       "0.73333333333333328"
      ]
     },
     "execution_count": 150,
     "metadata": {},
     "output_type": "execute_result"
    }
   ],
   "source": [
    "clf = KNeighborsClassifier()\n",
    "clf.fit(features_train, labels_train)\n",
    "clf.score(features_test, labels_test)"
   ]
  },
  {
   "cell_type": "markdown",
   "metadata": {},
   "source": [
    "### Decision Tree"
   ]
  },
  {
   "cell_type": "code",
   "execution_count": 151,
   "metadata": {},
   "outputs": [
    {
     "data": {
      "text/plain": [
       "0.20000000000000001"
      ]
     },
     "execution_count": 151,
     "metadata": {},
     "output_type": "execute_result"
    }
   ],
   "source": [
    "clf = DecisionTreeClassifier()\n",
    "clf.fit(features_train, labels_train)\n",
    "clf.score(features_test, labels_test)"
   ]
  },
  {
   "cell_type": "markdown",
   "metadata": {
    "collapsed": true
   },
   "source": [
    "## Parameter Tuning\n",
    "\n",
    "The alogorithims above are simply run using the default paramters. It is generally believed, that we should get better performance from the algorithim by tuning the parameters.\n",
    "\n",
    "One other thing that is sitting uncomfortably with me, is we arbitarily set the feature selection to be 10 features. But we're trying three different algorithims, perhaps 10 features aren't good for some of these models? So to combat this, we're going also play around with the number of features."
   ]
  },
  {
   "cell_type": "code",
   "execution_count": 152,
   "metadata": {
    "collapsed": true
   },
   "outputs": [],
   "source": [
    "shuffle = StratifiedShuffleSplit(labels, 500, test_size=0.45, random_state=42)"
   ]
  },
  {
   "cell_type": "code",
   "execution_count": 153,
   "metadata": {},
   "outputs": [],
   "source": [
    "select_best = SelectKBest(k=10)\n",
    "clf = KNeighborsClassifier()\n",
    "\n",
    "steps = [('feature_selection', select_best),\n",
    "        ('model', clf)]\n",
    "\n",
    "pipeline = Pipeline(steps)"
   ]
  },
  {
   "cell_type": "code",
   "execution_count": 155,
   "metadata": {},
   "outputs": [
    {
     "name": "stdout",
     "output_type": "stream",
     "text": [
      "             precision    recall  f1-score   support\n",
      "\n",
      "        0.0       0.85      1.00      0.92        11\n",
      "        1.0       1.00      0.50      0.67         4\n",
      "\n",
      "avg / total       0.89      0.87      0.85        15\n",
      "\n",
      "\n",
      "\n",
      "{'model__metric': 'euclidean', 'feature_selection__k': 9, 'model__n_neighbors': 3}\n"
     ]
    }
   ],
   "source": [
    "parameters = dict(feature_selection__k = [3, 5, 7, 9, 11, 12, 15], \n",
    "              model__n_neighbors = [2, 3, 4, 5, 6, 7],\n",
    "              model__metric = ['euclidean', 'minkowski'])\n",
    "\n",
    "cv = GridSearchCV(pipeline, param_grid=parameters, scoring='f1', cv=shuffle)\n",
    "\n",
    "cv.fit(features, labels)\n",
    "predictions = cv.predict(features_test)\n",
    "report = sklearn.metrics.classification_report(labels_test, predictions)\n",
    "print report\n",
    "print '\\n'\n",
    "print cv.best_params_"
   ]
  },
  {
   "cell_type": "code",
   "execution_count": null,
   "metadata": {
    "collapsed": true
   },
   "outputs": [],
   "source": [
    "select_best_ada = SelectKBest(k=10)\n",
    "clf_ada = AdaBoostClassifier()\n",
    "\n",
    "steps = [('feature_selection', select_best_ada),\n",
    "        ('model', clf_ada)]\n",
    "\n",
    "pipeline_ada = sklearn.pipeline.Pipeline(steps)"
   ]
  },
  {
   "cell_type": "code",
   "execution_count": null,
   "metadata": {},
   "outputs": [],
   "source": [
    "parameters = dict(feature_selection__k = [3, 5, 7, 9, 11, 12, 15], \n",
    "              model__n_estimators = [40, 50, 60, 70, 80, 90])\n",
    "\n",
    "cv = GridSearchCV(pipeline_ada, param_grid=parameters, scoring='f1', cv=shuffle)\n",
    "\n",
    "cv.fit(features, labels)\n",
    "predictions = cv.predict(features_test)\n",
    "report = sklearn.metrics.classification_report(labels_test, predictions)\n",
    "print report\n",
    "print '\\n'\n",
    "print cv.best_params_"
   ]
  },
  {
   "cell_type": "code",
   "execution_count": null,
   "metadata": {
    "collapsed": true
   },
   "outputs": [],
   "source": []
  }
 ],
 "metadata": {
  "kernelspec": {
   "display_name": "Python 2",
   "language": "python",
   "name": "python2"
  },
  "language_info": {
   "codemirror_mode": {
    "name": "ipython",
    "version": 2
   },
   "file_extension": ".py",
   "mimetype": "text/x-python",
   "name": "python",
   "nbconvert_exporter": "python",
   "pygments_lexer": "ipython2",
   "version": "2.7.14"
  }
 },
 "nbformat": 4,
 "nbformat_minor": 2
}
